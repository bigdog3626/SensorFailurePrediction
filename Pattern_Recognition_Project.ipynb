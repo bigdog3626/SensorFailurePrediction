{
  "cells": [
    {
      "cell_type": "markdown",
      "id": "1a3db668",
      "metadata": {
        "id": "1a3db668"
      },
      "source": [
        "# Sensor failure Detection and prediction\n"
      ]
    },
    {
      "cell_type": "code",
      "execution_count": null,
      "id": "cb44f530",
      "metadata": {},
      "outputs": [],
      "source": []
    },
    {
      "cell_type": "markdown",
      "id": "GokPsw0xrV0G",
      "metadata": {
        "id": "GokPsw0xrV0G"
      },
      "source": [
        "## Initialize Imports and mount the dataset"
      ]
    },
    {
      "cell_type": "code",
      "execution_count": 1,
      "id": "QJL-GyaunSeR",
      "metadata": {
        "colab": {
          "base_uri": "https://localhost:8080/"
        },
        "id": "QJL-GyaunSeR",
        "outputId": "f931f682-c05e-40ae-b1dc-a9d5a2f8ca7f"
      },
      "outputs": [],
      "source": [
        "# !git clone https://github.com/bigdog3626/SensorFailurePrediction.git"
      ]
    },
    {
      "cell_type": "code",
      "execution_count": 2,
      "id": "2f7218cf-c8e3-409f-9bb8-a1dba1fce4dd",
      "metadata": {
        "id": "2f7218cf-c8e3-409f-9bb8-a1dba1fce4dd"
      },
      "outputs": [],
      "source": [
        "import pandas as pd\n",
        "import numpy as np\n",
        "import seaborn as sns\n",
        "from mpl_toolkits.mplot3d import Axes3D\n",
        "from sklearn.preprocessing import StandardScaler\n",
        "import matplotlib.pyplot as plt # plotting\n",
        "import datetime\n",
        "DataSet = 'sensor-fault-detection.csv'\n",
        "# DataSet = '/content/SensorFailurePrediction/sensor-fault-detection.csv'"
      ]
    },
    {
      "cell_type": "markdown",
      "id": "dc2d85c7",
      "metadata": {
        "id": "dc2d85c7"
      },
      "source": [
        "## Create Helper Functions"
      ]
    },
    {
      "cell_type": "markdown",
      "id": "gk2Cu3eLrkHv",
      "metadata": {
        "id": "gk2Cu3eLrkHv"
      },
      "source": [
        "### Plot Per Columns Distribution"
      ]
    },
    {
      "cell_type": "code",
      "execution_count": 3,
      "id": "958c2702",
      "metadata": {
        "id": "958c2702"
      },
      "outputs": [],
      "source": [
        "def plotPerColumnsDistribution(df, nGraphShown, nGraphPerRow):\n",
        "    nunique = df.nunique()\n",
        "    df = df[[col for col in df if nunique[col] > 1 and nunique[col] < 50]]\n",
        "    nRow, nCol = df.shape\n",
        "    columnNames = list(df)\n",
        "    nGraphRow = (nCol + nGraphPerRow - 1) / nGraphPerRow\n",
        "    plt.figure(num = None, figsize=(6*nGraphPerRow, 8*nGraphRow), dpi = 80, facecolor= 'w', edgecolor='k')\n",
        "    \n",
        "    for i in range(min(nCol, nGraphShown)) :\n",
        "        plt.subplot(nGraphRow, nGraphPerRow, i+1)\n",
        "        columnDF = df.iloc[:,i]\n",
        "        if (not np.issubdtype(type(columnDF.iloc[0]),np.number)):\n",
        "            valueCounts = columnDF.value_counts()\n",
        "            valueCounts.plot.bar()\n",
        "            \n",
        "        else:\n",
        "            columnDF.hist()\n",
        "        plt.ylabel('counts')\n",
        "        plt.xticks(rotation = 90)\n",
        "        plt.title(f'{columnNames[i]} (column {i})')\n",
        "    plt.tight_layout(pad=1.0, w_pad=1.0, h_pad=1.0) \n",
        "    plt.show()"
      ]
    },
    {
      "cell_type": "markdown",
      "id": "-Sis97LHrrPw",
      "metadata": {
        "id": "-Sis97LHrrPw"
      },
      "source": [
        "### Plot Correlation Matrix"
      ]
    },
    {
      "cell_type": "code",
      "execution_count": 4,
      "id": "c03a6f1a",
      "metadata": {
        "id": "c03a6f1a"
      },
      "outputs": [],
      "source": [
        "def plotCorrelationMatrix(df, graphWidth):\n",
        "    fileName = df.dataframeName\n",
        "    df = df.dropna('columns')\n",
        "    df = df[[col for col in df if df[col].nunique() > 1]]\n",
        "    \n",
        "    if df.shape[1] < 2:\n",
        "        print(f'No Correlation plots to show\\n num of Nan or constant columns({df.shape[1]}) is less than 2') \n",
        "        return\n",
        "    corr = df.corr()\n",
        "    plt.figure(num=None, figsize = (graphWidth, graphWidth),  dpi=80, facecolor='w', edgecolor='k')\n",
        "    corrMat = plt.matshow(corr, fignum=1)\n",
        "    plt.xticks(range(len(corr.columns)), corr.columns, rotation=90)\n",
        "    plt.yticks(range(len(corr.columns)), corr.columns)\n",
        "    plt.gca().xaxis.tick_bottom()\n",
        "    plt.colorbar(corrMat)\n",
        "    plt.title(f'Correlation Matrix for {fileName}', fontsize= 15)\n",
        "    plt.show()     "
      ]
    },
    {
      "cell_type": "markdown",
      "id": "XFtFxdtJruXi",
      "metadata": {
        "id": "XFtFxdtJruXi"
      },
      "source": [
        "### Plot Scatter Matrix"
      ]
    },
    {
      "cell_type": "code",
      "execution_count": 5,
      "id": "94726492",
      "metadata": {
        "id": "94726492"
      },
      "outputs": [],
      "source": [
        "def plotScatterMatrix(df, plotSize, textSize):\n",
        "    df = df.select_dtypes(include =[np.number]) # keep only numerical columns\n",
        "    # Remove rows and columns that would lead to df being singular\n",
        "    df = df.dropna('columns')\n",
        "    df = df[[col for col in df if df[col].nunique() > 1]] # keep columns where there are more than 1 unique values\n",
        "    columnNames = list(df)\n",
        "    if len(columnNames) > 10: # reduce the number of columns for matrix inversion of kernel density plots\n",
        "        columnNames = columnNames[:10]\n",
        "    df = df[columnNames]\n",
        "    ax = pd.plotting.scatter_matrix(df, alpha=0.75, figsize=[plotSize, plotSize], diagonal='kde')\n",
        "    corrs = df.corr().values\n",
        "    for i, j in zip(*plt.np.triu_indices_from(ax, k = 1)):\n",
        "        ax[i, j].annotate('Corr. coef = %.3f' % corrs[i, j], (0.8, 0.2), xycoords='axes fraction', ha='center', va='center', size=textSize)\n",
        "    plt.suptitle('Scatter and Density Plot')\n",
        "    plt.show()\n",
        " "
      ]
    },
    {
      "cell_type": "markdown",
      "id": "457bdb1c",
      "metadata": {
        "id": "457bdb1c"
      },
      "source": [
        "## Create Dataframe\n"
      ]
    },
    {
      "cell_type": "code",
      "execution_count": 6,
      "id": "8bbc2d61",
      "metadata": {
        "colab": {
          "base_uri": "https://localhost:8080/"
        },
        "id": "8bbc2d61",
        "outputId": "77da8c5b-9ccd-4323-c2a4-017846e81a28"
      },
      "outputs": [
        {
          "name": "stdout",
          "output_type": "stream",
          "text": [
            "There are 62629 rows and 3 columns\n"
          ]
        }
      ],
      "source": [
        "\n",
        "\n",
        "df = pd.read_csv(DataSet, sep=';', parse_dates=[1])\n",
        "df.dataframename = 'sensor-fault-detection.csv'\n",
        "nRow, nCol = df.shape\n",
        "print(f'There are {nRow} rows and {nCol} columns')"
      ]
    },
    {
      "cell_type": "markdown",
      "id": "89d3d0fc",
      "metadata": {
        "id": "89d3d0fc"
      },
      "source": [
        "Inspect our data"
      ]
    },
    {
      "cell_type": "code",
      "execution_count": 7,
      "id": "62359899",
      "metadata": {
        "colab": {
          "base_uri": "https://localhost:8080/",
          "height": 206
        },
        "id": "62359899",
        "outputId": "3378344c-df1a-4b16-ea62-dd92ad537d71"
      },
      "outputs": [
        {
          "data": {
            "text/html": [
              "<div>\n",
              "<style scoped>\n",
              "    .dataframe tbody tr th:only-of-type {\n",
              "        vertical-align: middle;\n",
              "    }\n",
              "\n",
              "    .dataframe tbody tr th {\n",
              "        vertical-align: top;\n",
              "    }\n",
              "\n",
              "    .dataframe thead th {\n",
              "        text-align: right;\n",
              "    }\n",
              "</style>\n",
              "<table border=\"1\" class=\"dataframe\">\n",
              "  <thead>\n",
              "    <tr style=\"text-align: right;\">\n",
              "      <th></th>\n",
              "      <th>Timestamp</th>\n",
              "      <th>SensorId</th>\n",
              "      <th>Value</th>\n",
              "    </tr>\n",
              "  </thead>\n",
              "  <tbody>\n",
              "    <tr>\n",
              "      <th>0</th>\n",
              "      <td>2017-03-01T23:20:00+03:00</td>\n",
              "      <td>1</td>\n",
              "      <td>18.479807</td>\n",
              "    </tr>\n",
              "    <tr>\n",
              "      <th>1</th>\n",
              "      <td>2017-03-02T04:00:00+03:00</td>\n",
              "      <td>1</td>\n",
              "      <td>19.539112</td>\n",
              "    </tr>\n",
              "    <tr>\n",
              "      <th>2</th>\n",
              "      <td>2017-03-23T06:25:00+03:00</td>\n",
              "      <td>1</td>\n",
              "      <td>19.250198</td>\n",
              "    </tr>\n",
              "    <tr>\n",
              "      <th>3</th>\n",
              "      <td>2017-03-23T19:35:00+03:00</td>\n",
              "      <td>1</td>\n",
              "      <td>18.961285</td>\n",
              "    </tr>\n",
              "    <tr>\n",
              "      <th>4</th>\n",
              "      <td>2017-04-04T15:10:00+03:00</td>\n",
              "      <td>1</td>\n",
              "      <td>25.321623</td>\n",
              "    </tr>\n",
              "  </tbody>\n",
              "</table>\n",
              "</div>"
            ],
            "text/plain": [
              "                   Timestamp SensorId      Value\n",
              "0  2017-03-01T23:20:00+03:00        1  18.479807\n",
              "1  2017-03-02T04:00:00+03:00        1  19.539112\n",
              "2  2017-03-23T06:25:00+03:00        1  19.250198\n",
              "3  2017-03-23T19:35:00+03:00        1  18.961285\n",
              "4  2017-04-04T15:10:00+03:00        1  25.321623"
            ]
          },
          "execution_count": 7,
          "metadata": {},
          "output_type": "execute_result"
        }
      ],
      "source": [
        "df.head(5)"
      ]
    },
    {
      "cell_type": "markdown",
      "id": "416e646b",
      "metadata": {
        "id": "416e646b"
      },
      "source": [
        "Get some statistics about our data"
      ]
    },
    {
      "cell_type": "markdown",
      "id": "2xKylEFiZhR9",
      "metadata": {
        "id": "2xKylEFiZhR9"
      },
      "source": [
        "Convert timetamps to float of YYYYMMDD.HHMMSS"
      ]
    },
    {
      "cell_type": "code",
      "execution_count": 8,
      "id": "rXduQE7yZpp-",
      "metadata": {
        "colab": {
          "base_uri": "https://localhost:8080/",
          "height": 263
        },
        "id": "rXduQE7yZpp-",
        "outputId": "73182e63-677b-4c64-b9fd-143ac0afff17"
      },
      "outputs": [
        {
          "data": {
            "text/html": [
              "<div>\n",
              "<style scoped>\n",
              "    .dataframe tbody tr th:only-of-type {\n",
              "        vertical-align: middle;\n",
              "    }\n",
              "\n",
              "    .dataframe tbody tr th {\n",
              "        vertical-align: top;\n",
              "    }\n",
              "\n",
              "    .dataframe thead th {\n",
              "        text-align: right;\n",
              "    }\n",
              "</style>\n",
              "<table border=\"1\" class=\"dataframe\">\n",
              "  <thead>\n",
              "    <tr style=\"text-align: right;\">\n",
              "      <th></th>\n",
              "      <th>Timestamp</th>\n",
              "      <th>SensorId</th>\n",
              "      <th>Value</th>\n",
              "      <th>ConvertedTimeStamp</th>\n",
              "    </tr>\n",
              "  </thead>\n",
              "  <tbody>\n",
              "    <tr>\n",
              "      <th>55042</th>\n",
              "      <td>2017-01-01T00:00:00+03:00</td>\n",
              "      <td>1</td>\n",
              "      <td>13.579168</td>\n",
              "      <td>101.0000</td>\n",
              "    </tr>\n",
              "    <tr>\n",
              "      <th>9439</th>\n",
              "      <td>2017-01-01T00:05:00+03:00</td>\n",
              "      <td>1</td>\n",
              "      <td>13.579168</td>\n",
              "      <td>101.0005</td>\n",
              "    </tr>\n",
              "    <tr>\n",
              "      <th>52357</th>\n",
              "      <td>2017-01-01T00:10:00+03:00</td>\n",
              "      <td>1</td>\n",
              "      <td>13.579168</td>\n",
              "      <td>101.0010</td>\n",
              "    </tr>\n",
              "    <tr>\n",
              "      <th>2838</th>\n",
              "      <td>2017-01-01T00:15:00+03:00</td>\n",
              "      <td>1</td>\n",
              "      <td>13.579168</td>\n",
              "      <td>101.0015</td>\n",
              "    </tr>\n",
              "    <tr>\n",
              "      <th>9126</th>\n",
              "      <td>2017-01-01T00:20:00+03:00</td>\n",
              "      <td>1</td>\n",
              "      <td>13.579168</td>\n",
              "      <td>101.0020</td>\n",
              "    </tr>\n",
              "  </tbody>\n",
              "</table>\n",
              "</div>"
            ],
            "text/plain": [
              "                       Timestamp SensorId      Value  ConvertedTimeStamp\n",
              "55042  2017-01-01T00:00:00+03:00        1  13.579168            101.0000\n",
              "9439   2017-01-01T00:05:00+03:00        1  13.579168            101.0005\n",
              "52357  2017-01-01T00:10:00+03:00        1  13.579168            101.0010\n",
              "2838   2017-01-01T00:15:00+03:00        1  13.579168            101.0015\n",
              "9126   2017-01-01T00:20:00+03:00        1  13.579168            101.0020"
            ]
          },
          "execution_count": 8,
          "metadata": {},
          "output_type": "execute_result"
        }
      ],
      "source": [
        "\n",
        " # Timestamp conversion method to the form of YYYYMMDD.HHMMSS\n",
        "def convertTimestamp(row):\n",
        "    removeableChar = ['-',':', '+', 'T']\n",
        "    timeStamp = row['Timestamp']\n",
        "    for e in removeableChar:\n",
        "        if e in timeStamp:\n",
        "            timeStamp = timeStamp.replace(e, '')\n",
        "    timeStamp = timeStamp[4:8] + '.' + timeStamp[8:15]\n",
        "    return float(timeStamp)\n",
        "\n",
        "# Create ConvertedTimeStamp col\n",
        "df['ConvertedTimeStamp'] = df.apply(convertTimestamp, axis=1)\n",
        "\n",
        "\n",
        "df.sort_values(by=['ConvertedTimeStamp'], inplace=True)\n",
        "\n",
        "df.head()\n"
      ]
    },
    {
      "cell_type": "markdown",
      "id": "XP34o45Fr8uG",
      "metadata": {
        "id": "XP34o45Fr8uG"
      },
      "source": [
        "## Begin pre-processing the Data."
      ]
    },
    {
      "cell_type": "code",
      "execution_count": 9,
      "id": "c21de920",
      "metadata": {
        "colab": {
          "base_uri": "https://localhost:8080/",
          "height": 300
        },
        "id": "c21de920",
        "outputId": "b9064ea1-12ec-4beb-e4e5-2d913c53cc93"
      },
      "outputs": [
        {
          "data": {
            "text/html": [
              "<div>\n",
              "<style scoped>\n",
              "    .dataframe tbody tr th:only-of-type {\n",
              "        vertical-align: middle;\n",
              "    }\n",
              "\n",
              "    .dataframe tbody tr th {\n",
              "        vertical-align: top;\n",
              "    }\n",
              "\n",
              "    .dataframe thead th {\n",
              "        text-align: right;\n",
              "    }\n",
              "</style>\n",
              "<table border=\"1\" class=\"dataframe\">\n",
              "  <thead>\n",
              "    <tr style=\"text-align: right;\">\n",
              "      <th></th>\n",
              "      <th>Value</th>\n",
              "      <th>ConvertedTimeStamp</th>\n",
              "    </tr>\n",
              "  </thead>\n",
              "  <tbody>\n",
              "    <tr>\n",
              "      <th>count</th>\n",
              "      <td>62629.000000</td>\n",
              "      <td>62629.000000</td>\n",
              "    </tr>\n",
              "    <tr>\n",
              "      <th>mean</th>\n",
              "      <td>24.203861</td>\n",
              "      <td>594.211069</td>\n",
              "    </tr>\n",
              "    <tr>\n",
              "      <th>std</th>\n",
              "      <td>5.411599</td>\n",
              "      <td>289.206771</td>\n",
              "    </tr>\n",
              "    <tr>\n",
              "      <th>min</th>\n",
              "      <td>6.886155</td>\n",
              "      <td>101.000000</td>\n",
              "    </tr>\n",
              "    <tr>\n",
              "      <th>25%</th>\n",
              "      <td>21.369419</td>\n",
              "      <td>414.102000</td>\n",
              "    </tr>\n",
              "    <tr>\n",
              "      <th>50%</th>\n",
              "      <td>24.550188</td>\n",
              "      <td>608.144500</td>\n",
              "    </tr>\n",
              "    <tr>\n",
              "      <th>75%</th>\n",
              "      <td>27.443794</td>\n",
              "      <td>802.211000</td>\n",
              "    </tr>\n",
              "    <tr>\n",
              "      <th>max</th>\n",
              "      <td>149.601822</td>\n",
              "      <td>1231.235500</td>\n",
              "    </tr>\n",
              "  </tbody>\n",
              "</table>\n",
              "</div>"
            ],
            "text/plain": [
              "              Value  ConvertedTimeStamp\n",
              "count  62629.000000        62629.000000\n",
              "mean      24.203861          594.211069\n",
              "std        5.411599          289.206771\n",
              "min        6.886155          101.000000\n",
              "25%       21.369419          414.102000\n",
              "50%       24.550188          608.144500\n",
              "75%       27.443794          802.211000\n",
              "max      149.601822         1231.235500"
            ]
          },
          "execution_count": 9,
          "metadata": {},
          "output_type": "execute_result"
        }
      ],
      "source": [
        "df.describe()"
      ]
    },
    {
      "cell_type": "markdown",
      "id": "d333eacd",
      "metadata": {
        "id": "d333eacd"
      },
      "source": [
        "Check missing values for each column"
      ]
    },
    {
      "cell_type": "code",
      "execution_count": 10,
      "id": "0fb05c3f",
      "metadata": {
        "colab": {
          "base_uri": "https://localhost:8080/"
        },
        "id": "0fb05c3f",
        "outputId": "bc847322-a437-4e52-fc01-3f01bf6dea6f"
      },
      "outputs": [
        {
          "data": {
            "text/plain": [
              "Timestamp             0\n",
              "SensorId              0\n",
              "Value                 0\n",
              "ConvertedTimeStamp    0\n",
              "dtype: int64"
            ]
          },
          "execution_count": 10,
          "metadata": {},
          "output_type": "execute_result"
        }
      ],
      "source": [
        "df.isnull().sum(axis=1)\n",
        "df.isnull().sum(axis=0)"
      ]
    },
    {
      "cell_type": "markdown",
      "id": "FNgSn9FoWV9R",
      "metadata": {
        "id": "FNgSn9FoWV9R"
      },
      "source": [
        "Check for outliers via boxplot"
      ]
    },
    {
      "cell_type": "code",
      "execution_count": 11,
      "id": "oTIR5MGHWs1F",
      "metadata": {
        "colab": {
          "base_uri": "https://localhost:8080/",
          "height": 297
        },
        "id": "oTIR5MGHWs1F",
        "outputId": "82a78529-7c6b-4763-fd71-622be2ca8343"
      },
      "outputs": [
        {
          "data": {
            "text/plain": [
              "<AxesSubplot:xlabel='Value'>"
            ]
          },
          "execution_count": 11,
          "metadata": {},
          "output_type": "execute_result"
        },
        {
          "data": {
            "image/png": "[encoded data removed]",
            "text/plain": [
              "<Figure size 640x480 with 1 Axes>"
            ]
          },
          "metadata": {},
          "output_type": "display_data"
        }
      ],
      "source": [
        "sns.boxplot(x=df['Value'])"
      ]
    },
    {
      "cell_type": "code",
      "execution_count": 12,
      "id": "_R06GSnxgIMj",
      "metadata": {
        "colab": {
          "base_uri": "https://localhost:8080/",
          "height": 360
        },
        "id": "_R06GSnxgIMj",
        "outputId": "a1bf74c6-8c2e-4d74-f339-9b69aa0a1af7"
      },
      "outputs": [
        {
          "data": {
            "image/png": "[encoded data removed]",
            "text/plain": [
              "<Figure size 1600x500 with 2 Axes>"
            ]
          },
          "metadata": {},
          "output_type": "display_data"
        }
      ],
      "source": [
        "# Create more plots to understand outlier distribution\n",
        "import warnings\n",
        "warnings.filterwarnings('ignore')\n",
        "plt.figure(figsize=(16,5))\n",
        "plt.subplot(1,2,1)\n",
        "sns.distplot(df['Value'])\n",
        "plt.subplot(1,2,2)\n",
        "sns.distplot(df['ConvertedTimeStamp'])\n",
        "plt.show()\n"
      ]
    },
    {
      "cell_type": "markdown",
      "id": "f9e90689",
      "metadata": {},
      "source": [
        "Find Z-Score to remove outlier"
      ]
    },
    {
      "cell_type": "code",
      "execution_count": 13,
      "id": "e976744f",
      "metadata": {},
      "outputs": [
        {
          "name": "stdout",
          "output_type": "stream",
          "text": [
            "Highest allowed 40.4386589738736\n",
            "Lowest allowed 7.9690631641091905\n"
          ]
        }
      ],
      "source": [
        "print(\"Highest allowed\",df['Value'].mean() + 3*df['Value'].std())\n",
        "print(\"Lowest allowed\",df['Value'].mean() - 3*df['Value'].std())"
      ]
    },
    {
      "cell_type": "code",
      "execution_count": 14,
      "id": "4cc4689f",
      "metadata": {},
      "outputs": [
        {
          "data": {
            "text/plain": [
              "count    62629.000000\n",
              "mean        24.203861\n",
              "std          5.411599\n",
              "min          6.886155\n",
              "25%         21.369419\n",
              "50%         24.550188\n",
              "75%         27.443794\n",
              "max        149.601822\n",
              "Name: Value, dtype: float64"
            ]
          },
          "execution_count": 14,
          "metadata": {},
          "output_type": "execute_result"
        }
      ],
      "source": [
        "# Pre Z-Score corrections\n",
        "df['Value'].describe()"
      ]
    },
    {
      "cell_type": "code",
      "execution_count": 15,
      "id": "7be09d23",
      "metadata": {},
      "outputs": [],
      "source": [
        "\n",
        "\n",
        "\n",
        "# Set limit bounds\n",
        "upper_limit = df['Value'].mean() + 3*df['Value'].std()\n",
        "lower_limit = df['Value'].mean() - 3*df['Value'].std()\n",
        "\n",
        "# Apply the Z Score\n",
        "df['Value'] = np.where(\n",
        "    df['Value']>upper_limit,\n",
        "    upper_limit,\n",
        "    np.where(\n",
        "        df['Value']<lower_limit,\n",
        "        lower_limit,\n",
        "        df['Value']\n",
        "    )\n",
        ")\n",
        "\n",
        "\n",
        "\n"
      ]
    },
    {
      "cell_type": "code",
      "execution_count": 16,
      "id": "05f7bb66",
      "metadata": {},
      "outputs": [
        {
          "data": {
            "text/html": [
              "<div>\n",
              "<style scoped>\n",
              "    .dataframe tbody tr th:only-of-type {\n",
              "        vertical-align: middle;\n",
              "    }\n",
              "\n",
              "    .dataframe tbody tr th {\n",
              "        vertical-align: top;\n",
              "    }\n",
              "\n",
              "    .dataframe thead th {\n",
              "        text-align: right;\n",
              "    }\n",
              "</style>\n",
              "<table border=\"1\" class=\"dataframe\">\n",
              "  <thead>\n",
              "    <tr style=\"text-align: right;\">\n",
              "      <th></th>\n",
              "      <th>Value</th>\n",
              "      <th>ConvertedTimeStamp</th>\n",
              "    </tr>\n",
              "  </thead>\n",
              "  <tbody>\n",
              "    <tr>\n",
              "      <th>count</th>\n",
              "      <td>62629.000000</td>\n",
              "      <td>62629.000000</td>\n",
              "    </tr>\n",
              "    <tr>\n",
              "      <th>mean</th>\n",
              "      <td>24.194034</td>\n",
              "      <td>594.211069</td>\n",
              "    </tr>\n",
              "    <tr>\n",
              "      <th>std</th>\n",
              "      <td>5.212866</td>\n",
              "      <td>289.206771</td>\n",
              "    </tr>\n",
              "    <tr>\n",
              "      <th>min</th>\n",
              "      <td>7.969063</td>\n",
              "      <td>101.000000</td>\n",
              "    </tr>\n",
              "    <tr>\n",
              "      <th>25%</th>\n",
              "      <td>21.369419</td>\n",
              "      <td>414.102000</td>\n",
              "    </tr>\n",
              "    <tr>\n",
              "      <th>50%</th>\n",
              "      <td>24.550188</td>\n",
              "      <td>608.144500</td>\n",
              "    </tr>\n",
              "    <tr>\n",
              "      <th>75%</th>\n",
              "      <td>27.443794</td>\n",
              "      <td>802.211000</td>\n",
              "    </tr>\n",
              "    <tr>\n",
              "      <th>max</th>\n",
              "      <td>40.438659</td>\n",
              "      <td>1231.235500</td>\n",
              "    </tr>\n",
              "  </tbody>\n",
              "</table>\n",
              "</div>"
            ],
            "text/plain": [
              "              Value  ConvertedTimeStamp\n",
              "count  62629.000000        62629.000000\n",
              "mean      24.194034          594.211069\n",
              "std        5.212866          289.206771\n",
              "min        7.969063          101.000000\n",
              "25%       21.369419          414.102000\n",
              "50%       24.550188          608.144500\n",
              "75%       27.443794          802.211000\n",
              "max       40.438659         1231.235500"
            ]
          },
          "execution_count": 16,
          "metadata": {},
          "output_type": "execute_result"
        }
      ],
      "source": [
        "df.describe()"
      ]
    },
    {
      "cell_type": "markdown",
      "id": "77476c31",
      "metadata": {},
      "source": [
        "Replot the graphs"
      ]
    },
    {
      "cell_type": "code",
      "execution_count": 17,
      "id": "8c3afe1d",
      "metadata": {},
      "outputs": [
        {
          "data": {
            "image/png": "[encoded data removed]",
            "text/plain": [
              "<Figure size 1600x500 with 2 Axes>"
            ]
          },
          "metadata": {},
          "output_type": "display_data"
        }
      ],
      "source": [
        "warnings.filterwarnings('ignore')\n",
        "plt.figure(figsize=(16,5))\n",
        "plt.subplot(1,2,1)\n",
        "sns.distplot(df['Value'])\n",
        "plt.subplot(1,2,2)\n",
        "sns.distplot(df['ConvertedTimeStamp'])\n",
        "plt.show()\n"
      ]
    },
    {
      "cell_type": "markdown",
      "id": "50ef23fc",
      "metadata": {
        "id": "50ef23fc"
      },
      "source": [
        "## Begin Understanding some groupings within the data "
      ]
    },
    {
      "cell_type": "code",
      "execution_count": 18,
      "id": "9a3c03b9",
      "metadata": {
        "id": "9a3c03b9"
      },
      "outputs": [
        {
          "data": {
            "text/html": [
              "<div>\n",
              "<style scoped>\n",
              "    .dataframe tbody tr th:only-of-type {\n",
              "        vertical-align: middle;\n",
              "    }\n",
              "\n",
              "    .dataframe tbody tr th {\n",
              "        vertical-align: top;\n",
              "    }\n",
              "\n",
              "    .dataframe thead th {\n",
              "        text-align: right;\n",
              "    }\n",
              "</style>\n",
              "<table border=\"1\" class=\"dataframe\">\n",
              "  <thead>\n",
              "    <tr style=\"text-align: right;\">\n",
              "      <th></th>\n",
              "      <th>Timestamp</th>\n",
              "      <th>SensorId</th>\n",
              "      <th>Value</th>\n",
              "      <th>ConvertedTimeStamp</th>\n",
              "      <th>cluster</th>\n",
              "      <th>cen_x</th>\n",
              "      <th>cen_y</th>\n",
              "      <th>c</th>\n",
              "    </tr>\n",
              "  </thead>\n",
              "  <tbody>\n",
              "    <tr>\n",
              "      <th>55042</th>\n",
              "      <td>2017-01-01T00:00:00+03:00</td>\n",
              "      <td>1</td>\n",
              "      <td>13.579168</td>\n",
              "      <td>101.0000</td>\n",
              "      <td>3</td>\n",
              "      <td>155.666688</td>\n",
              "      <td>16.776249</td>\n",
              "      <td>#2FDF20</td>\n",
              "    </tr>\n",
              "    <tr>\n",
              "      <th>9439</th>\n",
              "      <td>2017-01-01T00:05:00+03:00</td>\n",
              "      <td>1</td>\n",
              "      <td>13.579168</td>\n",
              "      <td>101.0005</td>\n",
              "      <td>3</td>\n",
              "      <td>155.666688</td>\n",
              "      <td>16.776249</td>\n",
              "      <td>#2FDF20</td>\n",
              "    </tr>\n",
              "    <tr>\n",
              "      <th>52357</th>\n",
              "      <td>2017-01-01T00:10:00+03:00</td>\n",
              "      <td>1</td>\n",
              "      <td>13.579168</td>\n",
              "      <td>101.0010</td>\n",
              "      <td>3</td>\n",
              "      <td>155.666688</td>\n",
              "      <td>16.776249</td>\n",
              "      <td>#2FDF20</td>\n",
              "    </tr>\n",
              "    <tr>\n",
              "      <th>2838</th>\n",
              "      <td>2017-01-01T00:15:00+03:00</td>\n",
              "      <td>1</td>\n",
              "      <td>13.579168</td>\n",
              "      <td>101.0015</td>\n",
              "      <td>3</td>\n",
              "      <td>155.666688</td>\n",
              "      <td>16.776249</td>\n",
              "      <td>#2FDF20</td>\n",
              "    </tr>\n",
              "    <tr>\n",
              "      <th>9126</th>\n",
              "      <td>2017-01-01T00:20:00+03:00</td>\n",
              "      <td>1</td>\n",
              "      <td>13.579168</td>\n",
              "      <td>101.0020</td>\n",
              "      <td>3</td>\n",
              "      <td>155.666688</td>\n",
              "      <td>16.776249</td>\n",
              "      <td>#2FDF20</td>\n",
              "    </tr>\n",
              "  </tbody>\n",
              "</table>\n",
              "</div>"
            ],
            "text/plain": [
              "                       Timestamp SensorId      Value  ConvertedTimeStamp  \\\n",
              "55042  2017-01-01T00:00:00+03:00        1  13.579168            101.0000   \n",
              "9439   2017-01-01T00:05:00+03:00        1  13.579168            101.0005   \n",
              "52357  2017-01-01T00:10:00+03:00        1  13.579168            101.0010   \n",
              "2838   2017-01-01T00:15:00+03:00        1  13.579168            101.0015   \n",
              "9126   2017-01-01T00:20:00+03:00        1  13.579168            101.0020   \n",
              "\n",
              "       cluster       cen_x      cen_y        c  \n",
              "55042        3  155.666688  16.776249  #2FDF20  \n",
              "9439         3  155.666688  16.776249  #2FDF20  \n",
              "52357        3  155.666688  16.776249  #2FDF20  \n",
              "2838         3  155.666688  16.776249  #2FDF20  \n",
              "9126         3  155.666688  16.776249  #2FDF20  "
            ]
          },
          "execution_count": 18,
          "metadata": {},
          "output_type": "execute_result"
        }
      ],
      "source": [
        "from sklearn.cluster import KMeans\n",
        "\n",
        "kmeans = KMeans(n_clusters=5, random_state=0)\n",
        "df['cluster'] = kmeans.fit_predict(df[['ConvertedTimeStamp', 'Value' ]])\n",
        "\n",
        "centroids = kmeans.cluster_centers_\n",
        "cen_x = [i[0] for i in centroids]\n",
        "cen_y = [i[1] for i in centroids]\n",
        "\n",
        "## add to df\n",
        "df['cen_x'] = df.cluster.map({0:cen_x[0], 1:cen_x[1], 2:cen_x[2], 3:cen_x[3],4:cen_x[4]})\n",
        "df['cen_y'] = df.cluster.map({0:cen_y[0], 1:cen_y[1], 2:cen_y[2], 3:cen_y[3],4:cen_y[4]})\n",
        "# define and map colors\n",
        "colors = ['#DF2020', '#81DF20', '#2095DF','#2FDF20', '#DA95DF']\n",
        "df['c'] = df.cluster.map({0:colors[0], 1:colors[1], 2:colors[2], 3:colors[3], 4:colors[4]})\n",
        "\n",
        "df.head()"
      ]
    },
    {
      "cell_type": "markdown",
      "id": "0d216f56",
      "metadata": {},
      "source": [
        "Plot the clustered data"
      ]
    },
    {
      "cell_type": "code",
      "execution_count": 19,
      "id": "a60d9c8a",
      "metadata": {},
      "outputs": [
        {
          "data": {
            "image/png": "[encoded data removed]",
            "text/plain": [
              "<Figure size 640x480 with 1 Axes>"
            ]
          },
          "metadata": {},
          "output_type": "display_data"
        }
      ],
      "source": [
        "plt.scatter(df.ConvertedTimeStamp, df.Value, c=df.c, alpha = 0.1, s=10 )\n",
        "plt.legend(['Sensor value'])\n",
        "plt.xlabel('Timestamp')\n",
        "plt.ylabel('Sensor value')\n",
        "plt.show()\n",
        "\n"
      ]
    },
    {
      "cell_type": "code",
      "execution_count": 20,
      "id": "921656e9",
      "metadata": {},
      "outputs": [],
      "source": [
        "from sklearn.neighbors import KNeighborsRegressor\n",
        "from sklearn.preprocessing import StandardScaler\n",
        "from sklearn.pipeline import Pipeline\n",
        "from sklearn.model_selection import train_test_split\n",
        "\n"
      ]
    },
    {
      "cell_type": "code",
      "execution_count": 21,
      "id": "5974c942",
      "metadata": {},
      "outputs": [
        {
          "ename": "SyntaxError",
          "evalue": "invalid syntax (1319202215.py, line 4)",
          "output_type": "error",
          "traceback": [
            "\u001b[0;36m  Input \u001b[0;32mIn [21]\u001b[0;36m\u001b[0m\n\u001b[0;31m    x_test = x_test.reshape(-1, 1)orsRegressor().fit(x_train,y_train)9+145691+45691+45691+45691+4569\u001b[0m\n\u001b[0m                                  ^\u001b[0m\n\u001b[0;31mSyntaxError\u001b[0m\u001b[0;31m:\u001b[0m invalid syntax\n"
          ]
        }
      ],
      "source": [
        "x_train, x_test, y_train, y_test = train_test_split(X, y, test_size = 0.2, random_state=0) \n",
        "\n",
        "x_train= x_train.reshape(-1, 1)\n",
        "x_test = x_test.reshape(-1, 1)orsRegressor().fit(x_train,y_train)9+145691+45691+45691+45691+4569\n",
        "\n",
        "\n",
        "\n",
        "pipe = Pipeline([\n",
        "    (\"scale\", StandardScaler()),\n",
        "    (\"model\", KNeighborsRegressor())\n",
        "                 ])\n"
      ]
    }
  ],
  "metadata": {
    "colab": {
      "collapsed_sections": [
        "dc2d85c7",
        "gk2Cu3eLrkHv",
        "-Sis97LHrrPw",
        "XFtFxdtJruXi",
        "XP34o45Fr8uG"
      ],
      "provenance": []
    },
    "kernelspec": {
      "display_name": "Python 3.9.13 ('base')",
      "language": "python",
      "name": "python3"
    },
    "language_info": {
      "codemirror_mode": {
        "name": "ipython",
        "version": 3
      },
      "file_extension": ".py",
      "mimetype": "text/x-python",
      "name": "python",
      "nbconvert_exporter": "python",
      "pygments_lexer": "ipython3",
      "version": "3.9.13"
    },
    "vscode": {
      "interpreter": {
        "hash": "b488f64ca1ad91d4e7f6cd4505a95a1f3345eeff8ec34819155a7b352b326c04"
      }
    }
  },
  "nbformat": 4,
  "nbformat_minor": 5
}
